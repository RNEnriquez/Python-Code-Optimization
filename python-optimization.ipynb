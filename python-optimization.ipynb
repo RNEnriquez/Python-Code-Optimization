{
 "cells": [
  {
   "cell_type": "markdown",
   "metadata": {},
   "source": [
    "## Python Code Optimization\n",
    "\n",
    "Still thinking about how I want to word this section"
   ]
  },
  {
   "cell_type": "code",
   "execution_count": 1,
   "metadata": {},
   "outputs": [],
   "source": [
    "import time\n",
    "import numpy as np\n",
    "import pandas as pd"
   ]
  },
  {
   "cell_type": "markdown",
   "metadata": {},
   "source": [
    "Explain the data\n",
    "\n",
    "Possibily show two ways to import the data (pandas and python)"
   ]
  },
  {
   "cell_type": "code",
   "execution_count": 2,
   "metadata": {},
   "outputs": [],
   "source": [
    "with open(\"books_published_last_two_years.txt\") as file:\n",
    "    recent_books = file.read().split(\"\\n\")\n",
    "    \n",
    "with open(\"all_coding_books.txt\") as file:\n",
    "    coding_books = file.read().split(\"\\n\")"
   ]
  },
  {
   "cell_type": "code",
   "execution_count": 3,
   "metadata": {},
   "outputs": [
    {
     "name": "stdout",
     "output_type": "stream",
     "text": [
      "Number of books in recent_books: 24159\n",
      "\n",
      "Number of books in coding_books: {len(coding_books)}\n"
     ]
    }
   ],
   "source": [
    "print(f\"Number of books in recent_books: {len(recent_books)}\")\n",
    "print(\"\")\n",
    "print(\"Number of books in coding_books: {len(coding_books)}\")"
   ]
  },
  {
   "cell_type": "code",
   "execution_count": 53,
   "metadata": {},
   "outputs": [],
   "source": [
    "recent_books_df = pd.read_csv(\"books_published_last_two_years.txt\", names=[\"Recent_books\"])\n",
    "\n",
    "coding_books_df = pd.read_csv(\"all_coding_books.txt\", names=[\"Coding_books\"])"
   ]
  },
  {
   "cell_type": "markdown",
   "metadata": {},
   "source": [
    "The Python Loops method"
   ]
  },
  {
   "cell_type": "code",
   "execution_count": 4,
   "metadata": {},
   "outputs": [
    {
     "name": "stdout",
     "output_type": "stream",
     "text": [
      "96\n",
      "Execution time: 25.585691452026367\n"
     ]
    }
   ],
   "source": [
    "start = time.time()\n",
    "recent_coding_books = []\n",
    "\n",
    "for book in recent_books:\n",
    "    if book in coding_books:\n",
    "        recent_coding_books.append(book)\n",
    "        \n",
    "print(len(recent_coding_books))\n",
    "print(f\"Execution time: {time.time() - start}\")"
   ]
  },
  {
   "cell_type": "markdown",
   "metadata": {},
   "source": [
    "Think about the problem. We are actually trying to find an intersection (what each dataset has in common).\n",
    "Therefore we want to find $A \\cap B$"
   ]
  },
  {
   "cell_type": "markdown",
   "metadata": {},
   "source": [
    "Use vector operations over loops when possible\n",
    "\n",
    "Use Numpys intersect1d method to get the intersection of the recent_books and coding_books arrays"
   ]
  },
  {
   "cell_type": "code",
   "execution_count": 5,
   "metadata": {},
   "outputs": [
    {
     "name": "stdout",
     "output_type": "stream",
     "text": [
      "96\n",
      "Execution time: 0.1872568130493164\n"
     ]
    }
   ],
   "source": [
    "start = time.time()\n",
    "recent_coding_books = np.intersect1d(coding_books, recent_books)\n",
    "print(len(recent_coding_books))\n",
    "print(f\"Execution time: {time.time() - start}\")"
   ]
  },
  {
   "cell_type": "markdown",
   "metadata": {},
   "source": [
    "Know your data structures and which methods are faster\n",
    "\n",
    "Use the set's intersection method to get the common elements in recent_books and coding_books"
   ]
  },
  {
   "cell_type": "code",
   "execution_count": 6,
   "metadata": {},
   "outputs": [
    {
     "name": "stdout",
     "output_type": "stream",
     "text": [
      "96\n",
      "Execution time: 0.019755125045776367\n"
     ]
    }
   ],
   "source": [
    "start = time.time()\n",
    "recent_coding_books = set(recent_books).intersection(set(coding_books))\n",
    "print(len(recent_coding_books))\n",
    "print(f\"Execution time: {time.time() - start}\")"
   ]
  },
  {
   "cell_type": "markdown",
   "metadata": {},
   "source": [
    "Say your online gift store has one million users that each listed a gift on a wish list. You have the prices for each of these gifts stored in `gift_costs.txt`. For the holidays, you're going to give each customer their wish list gift for free if it is under 25 dollars. Now, you want to calculate the total cost of all gifts under 25 dollars to see how much you'd spend on free gifts."
   ]
  },
  {
   "cell_type": "code",
   "execution_count": 7,
   "metadata": {},
   "outputs": [],
   "source": [
    "with open(\"gift_costs.txt\") as file:\n",
    "    gift_costs = file.read().split(\"\\n\")\n",
    "    \n",
    "gift_costs = np.array(gift_costs).astype(int)"
   ]
  },
  {
   "cell_type": "code",
   "execution_count": 10,
   "metadata": {},
   "outputs": [
    {
     "name": "stdout",
     "output_type": "stream",
     "text": [
      "10000001\n"
     ]
    },
    {
     "data": {
      "text/plain": [
       "array([ 8, 84, 42, 65, 74, 66, 48, 27, 78, 52, 97])"
      ]
     },
     "execution_count": 10,
     "metadata": {},
     "output_type": "execute_result"
    }
   ],
   "source": [
    "print(len(gift_costs))\n",
    "gift_costs[:11]"
   ]
  },
  {
   "cell_type": "code",
   "execution_count": 13,
   "metadata": {},
   "outputs": [
    {
     "name": "stdout",
     "output_type": "stream",
     "text": [
      "Total price: 32765421.23999867\n",
      "Execution time: 15.528027296066284 seconds\n"
     ]
    }
   ],
   "source": [
    "start = time.time()\n",
    "\n",
    "total_price = 0\n",
    "for cost in gift_costs:\n",
    "    if cost < 25:\n",
    "        total_price += cost * 1.08\n",
    "\n",
    "print(f\"Total price: {total_price}\")\n",
    "print(f\"Execution time: {time.time() - start} seconds\")"
   ]
  },
  {
   "cell_type": "markdown",
   "metadata": {},
   "source": [
    "Refactor Code"
   ]
  },
  {
   "cell_type": "code",
   "execution_count": 14,
   "metadata": {},
   "outputs": [
    {
     "name": "stdout",
     "output_type": "stream",
     "text": [
      "Total price: 32765421.240000002\n",
      "Execution time: 0.1729130744934082\n"
     ]
    }
   ],
   "source": [
    "start = time.time()\n",
    "\n",
    "total_price = (gift_costs[gift_costs < 25]).sum() * 1.08\n",
    "print(f\"Total price: {total_price}\")\n",
    "print(f\"Execution time: {time.time() - start}\")"
   ]
  }
 ],
 "metadata": {
  "kernelspec": {
   "display_name": "Python 3",
   "language": "python",
   "name": "python3"
  },
  "language_info": {
   "codemirror_mode": {
    "name": "ipython",
    "version": 3
   },
   "file_extension": ".py",
   "mimetype": "text/x-python",
   "name": "python",
   "nbconvert_exporter": "python",
   "pygments_lexer": "ipython3",
   "version": "3.7.3"
  }
 },
 "nbformat": 4,
 "nbformat_minor": 2
}
